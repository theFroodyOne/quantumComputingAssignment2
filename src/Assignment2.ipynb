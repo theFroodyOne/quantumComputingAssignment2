{
 "cells": [
  {
   "cell_type": "code",
   "id": "initial_id",
   "metadata": {
    "collapsed": true,
    "ExecuteTime": {
     "end_time": "2024-10-15T16:51:15.300161Z",
     "start_time": "2024-10-15T16:51:13.658636Z"
    }
   },
   "source": "%pip install numpy matplotlib scipy pennylane qutip qutip-qip",
   "outputs": [
    {
     "name": "stdout",
     "output_type": "stream",
     "text": [
      "/bin/bash: warning: setlocale: LC_ALL: cannot change locale (en_US.UTF-8)\r\n",
      "Defaulting to user installation because normal site-packages is not writeable\r\n",
      "Requirement already satisfied: numpy in /home/24700746/.local/lib/python3.10/site-packages (1.24.4)\r\n",
      "Requirement already satisfied: matplotlib in /home/24700746/.local/lib/python3.10/site-packages (3.9.2)\r\n",
      "Requirement already satisfied: scipy in /home/24700746/.local/lib/python3.10/site-packages (1.14.1)\r\n",
      "Requirement already satisfied: pennylane in /home/24700746/.local/lib/python3.10/site-packages (0.38.0)\r\n",
      "Requirement already satisfied: qutip in /home/24700746/.local/lib/python3.10/site-packages (5.0.4)\r\n",
      "Requirement already satisfied: qutip-qip in /home/24700746/.local/lib/python3.10/site-packages (0.3.2)\r\n",
      "Requirement already satisfied: cycler>=0.10 in /home/24700746/.local/lib/python3.10/site-packages (from matplotlib) (0.12.1)\r\n",
      "Requirement already satisfied: python-dateutil>=2.7 in /home/24700746/.local/lib/python3.10/site-packages (from matplotlib) (2.9.0.post0)\r\n",
      "Requirement already satisfied: kiwisolver>=1.3.1 in /home/24700746/.local/lib/python3.10/site-packages (from matplotlib) (1.4.7)\r\n",
      "Requirement already satisfied: pillow>=8 in /usr/lib/python3/dist-packages (from matplotlib) (9.0.1)\r\n",
      "Requirement already satisfied: pyparsing>=2.3.1 in /usr/lib/python3/dist-packages (from matplotlib) (2.4.7)\r\n",
      "Requirement already satisfied: fonttools>=4.22.0 in /home/24700746/.local/lib/python3.10/site-packages (from matplotlib) (4.54.1)\r\n",
      "Requirement already satisfied: packaging>=20.0 in /home/24700746/.local/lib/python3.10/site-packages (from matplotlib) (24.1)\r\n",
      "Requirement already satisfied: contourpy>=1.0.1 in /home/24700746/.local/lib/python3.10/site-packages (from matplotlib) (1.3.0)\r\n",
      "Requirement already satisfied: autograd in /home/24700746/.local/lib/python3.10/site-packages (from pennylane) (1.7.0)\r\n",
      "Requirement already satisfied: pennylane-lightning>=0.38 in /home/24700746/.local/lib/python3.10/site-packages (from pennylane) (0.38.0)\r\n",
      "Requirement already satisfied: requests in /home/24700746/.local/lib/python3.10/site-packages (from pennylane) (2.32.3)\r\n",
      "Requirement already satisfied: networkx in /home/24700746/.local/lib/python3.10/site-packages (from pennylane) (3.4.1)\r\n",
      "Requirement already satisfied: rustworkx>=0.14.0 in /home/24700746/.local/lib/python3.10/site-packages (from pennylane) (0.15.1)\r\n",
      "Requirement already satisfied: cachetools in /home/24700746/.local/lib/python3.10/site-packages (from pennylane) (5.5.0)\r\n",
      "Requirement already satisfied: typing-extensions in /home/24700746/.local/lib/python3.10/site-packages (from pennylane) (4.12.2)\r\n",
      "Requirement already satisfied: toml in /home/24700746/.local/lib/python3.10/site-packages (from pennylane) (0.10.2)\r\n",
      "Requirement already satisfied: appdirs in /home/24700746/.local/lib/python3.10/site-packages (from pennylane) (1.4.4)\r\n",
      "Requirement already satisfied: autoray>=0.6.11 in /home/24700746/.local/lib/python3.10/site-packages (from pennylane) (0.6.12)\r\n",
      "Requirement already satisfied: six>=1.5 in /usr/lib/python3/dist-packages (from python-dateutil>=2.7->matplotlib) (1.16.0)\r\n",
      "Requirement already satisfied: certifi>=2017.4.17 in /usr/local/lib/python3.10/dist-packages (from requests->pennylane) (2024.8.30)\r\n",
      "Requirement already satisfied: urllib3<3,>=1.21.1 in /home/24700746/.local/lib/python3.10/site-packages (from requests->pennylane) (2.2.3)\r\n",
      "Requirement already satisfied: idna<4,>=2.5 in /usr/local/lib/python3.10/dist-packages (from requests->pennylane) (3.10)\r\n",
      "Requirement already satisfied: charset-normalizer<4,>=2 in /usr/local/lib/python3.10/dist-packages (from requests->pennylane) (3.3.2)\r\n",
      "Note: you may need to restart the kernel to use updated packages.\n"
     ]
    }
   ],
   "execution_count": 1
  },
  {
   "metadata": {
    "ExecuteTime": {
     "end_time": "2024-10-15T16:51:17.122319Z",
     "start_time": "2024-10-15T16:51:15.327613Z"
    }
   },
   "cell_type": "code",
   "source": [
    "import matplotlib.pyplot as plt\n",
    "import scipy as sp\n",
    "import pennylane as qml\n",
    "import qutip as qt\n",
    "from pennylane import qaoa\n",
    "from pennylane import numpy as np"
   ],
   "id": "6cecdfebebe226bf",
   "outputs": [],
   "execution_count": 2
  },
  {
   "metadata": {
    "ExecuteTime": {
     "end_time": "2024-10-15T16:54:39.376020Z",
     "start_time": "2024-10-15T16:54:39.349254Z"
    }
   },
   "cell_type": "code",
   "source": [
    "# Cindi-Ann Jeffery (24695823) & Zander Vermeulen (24700746)\n",
    "# Trying the example from the paper\n",
    "b = np.array([0, 1])\n",
    "A = np.array([[1, -1/3], [-1/3, 1]])\n",
    "\n",
    "num_wires = 4\n",
    "dev = qml.device(\"default.qubit\")\n",
    "ancilla_wire = 'q0_a'\n",
    "clock_wires = ['q1_c','q2_c']\n",
    "input_wire = 'q3'\n",
    "t = 3*np.pi/4\n",
    "\n",
    "U = np.array([[-0.5 + 0.5j, 0.5 + 0.5j], [0.5 + 0.5j, -0.5 + 0.5j]])\n",
    "U_sq = ([[0, -1], [-1, 0]])\n",
    "U_inv = np.array([[-0.5 - 0.5j, 0.5 - 0.5j], [0.5 - 0.5j, -0.5 - 0.5j]])\n",
    "U_inv_sq = U_sq\n",
    "\n",
    "@qml.qnode(dev)\n",
    "def circuit(ancilla_wire, clock_wires, input_wire):\n",
    "    all_wires = [ancilla_wire, clock_wires[0], clock_wires[1] ,input_wire]\n",
    "    # Step 1: state preparation\n",
    "    qml.PauliX(input_wire)\n",
    "    # Step 2: forward QPE\n",
    "    qml.QuantumPhaseEstimation(\n",
    "        U,\n",
    "        target_wires=input_wire,\n",
    "        estimation_wires=clock_wires,\n",
    "    )\n",
    "    \n",
    "    # Step 3: timey wimey spacey wacey spinny spin FIXME idk it just feels sus don't you think\n",
    "    qml.CRY(np.pi*0.2164, wires=[clock_wires[0], ancilla_wire])\n",
    "    qml.CRY(np.pi, wires=[clock_wires[1], ancilla_wire])\n",
    "    \n",
    "    # Step 4: Inverse QPE \n",
    "    qml.QFT(wires=clock_wires)\n",
    "    qml.ControlledQubitUnitary(U_inv_sq, control_wires=clock_wires[1], wires=input_wire)\n",
    "    qml.ControlledQubitUnitary(U_inv, control_wires=clock_wires[0], wires=input_wire)\n",
    "    qml.Hadamard(wires=clock_wires[0])\n",
    "    qml.Hadamard(wires=clock_wires[1])\n",
    "    \n",
    "    return qml.probs()\n",
    "    \n",
    "# Pretty output\n",
    "result = circuit(ancilla_wire, clock_wires, input_wire)\n",
    "print(result)\n",
    "#column_vector = result.reshape(-1, 1)\n",
    "\n",
    "#for n in range(15):\n",
    "#   print(n)\n",
    "#   print(column_vector[n])\n",
    "        \n",
    "# print((result))\n",
    "# qml.draw_mpl(QuantumPhaseEstimation(unitary,target_wires=input_wire,estimation_wires=clock_wires).decomposition, style=\"pennylane\")()\n",
    "#qml.draw_mpl(circuit, style=\"pennylane\", show_all_wires=True)(ancilla_wire, clock_wires, input_wire)"
   ],
   "id": "a0ca278ff8c4ebf",
   "outputs": [
    {
     "name": "stdout",
     "output_type": "stream",
     "text": [
      "[3.87350057e-35 6.25000000e-02 4.63619716e-34 6.25000000e-02\n",
      " 4.63619716e-34 6.25000000e-02 2.22209113e-01 6.93789233e-03\n",
      " 1.57947896e-33 6.25000000e-02 4.63619716e-34 6.25000000e-02\n",
      " 4.63619716e-34 6.25000000e-02 2.22209113e-01 1.73643881e-01]\n"
     ]
    }
   ],
   "execution_count": 4
  },
  {
   "metadata": {
    "ExecuteTime": {
     "end_time": "2024-10-15T16:51:19.946147Z",
     "start_time": "2024-10-15T16:51:19.944110Z"
    }
   },
   "cell_type": "code",
   "source": "",
   "id": "dbd08a3c330d5c63",
   "outputs": [],
   "execution_count": null
  }
 ],
 "metadata": {
  "kernelspec": {
   "display_name": "Python 3",
   "language": "python",
   "name": "python3"
  },
  "language_info": {
   "codemirror_mode": {
    "name": "ipython",
    "version": 2
   },
   "file_extension": ".py",
   "mimetype": "text/x-python",
   "name": "python",
   "nbconvert_exporter": "python",
   "pygments_lexer": "ipython2",
   "version": "2.7.6"
  }
 },
 "nbformat": 4,
 "nbformat_minor": 5
}
